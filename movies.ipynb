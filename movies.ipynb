{
 "cells": [
  {
   "cell_type": "code",
   "execution_count": 120,
   "id": "c189285b",
   "metadata": {},
   "outputs": [],
   "source": [
    "import pandas as pd\n",
    "import numpy as np\n",
    "import matplotlib.pyplot as plt\n",
    "import seaborn as sns\n",
    "import nltk\n",
    "from nltk.corpus import stopwords\n",
    "from nltk.stem import WordNetLemmatizer\n",
    "import re\n",
    "from sklearn.model_selection import train_test_split\n",
    "from sklearn.feature_extraction.text import TfidfVectorizer\n",
    "from sklearn.preprocessing import LabelEncoder\n",
    "from sklearn.linear_model import LogisticRegression\n",
    "from sklearn.metrics import classification_report, confusion_matrix, accuracy_score"
   ]
  },
  {
   "cell_type": "code",
   "execution_count": 121,
   "id": "2eddba38",
   "metadata": {},
   "outputs": [
    {
     "name": "stderr",
     "output_type": "stream",
     "text": [
      "[nltk_data] Downloading package stopwords to\n",
      "[nltk_data]     C:\\Users\\anjan\\AppData\\Roaming\\nltk_data...\n",
      "[nltk_data]   Package stopwords is already up-to-date!\n",
      "[nltk_data] Downloading package wordnet to\n",
      "[nltk_data]     C:\\Users\\anjan\\AppData\\Roaming\\nltk_data...\n",
      "[nltk_data]   Package wordnet is already up-to-date!\n"
     ]
    },
    {
     "data": {
      "text/plain": [
       "True"
      ]
     },
     "execution_count": 121,
     "metadata": {},
     "output_type": "execute_result"
    }
   ],
   "source": [
    "nltk.download('stopwords')\n",
    "nltk.download('wordnet')"
   ]
  },
  {
   "cell_type": "code",
   "execution_count": 123,
   "id": "84375be6",
   "metadata": {},
   "outputs": [],
   "source": [
    "df=pd.read_csv(r\"data\\Movies_Genre_Description.csv\")\n",
    "df=df[['GENRE', 'DESCRIPTION']].dropna()"
   ]
  },
  {
   "cell_type": "code",
   "execution_count": 124,
   "id": "ad09b84d",
   "metadata": {},
   "outputs": [
    {
     "data": {
      "text/html": [
       "<div>\n",
       "<style scoped>\n",
       "    .dataframe tbody tr th:only-of-type {\n",
       "        vertical-align: middle;\n",
       "    }\n",
       "\n",
       "    .dataframe tbody tr th {\n",
       "        vertical-align: top;\n",
       "    }\n",
       "\n",
       "    .dataframe thead th {\n",
       "        text-align: right;\n",
       "    }\n",
       "</style>\n",
       "<table border=\"1\" class=\"dataframe\">\n",
       "  <thead>\n",
       "    <tr style=\"text-align: right;\">\n",
       "      <th></th>\n",
       "      <th>GENRE</th>\n",
       "      <th>DESCRIPTION</th>\n",
       "    </tr>\n",
       "  </thead>\n",
       "  <tbody>\n",
       "    <tr>\n",
       "      <th>0</th>\n",
       "      <td>Oscar et la dame rose</td>\n",
       "      <td>Listening in to a conversation between his doc...</td>\n",
       "    </tr>\n",
       "    <tr>\n",
       "      <th>1</th>\n",
       "      <td>thriller</td>\n",
       "      <td>A brother and sister with a past incestuous re...</td>\n",
       "    </tr>\n",
       "    <tr>\n",
       "      <th>2</th>\n",
       "      <td>adult</td>\n",
       "      <td>As the bus empties the students for their fiel...</td>\n",
       "    </tr>\n",
       "    <tr>\n",
       "      <th>3</th>\n",
       "      <td>drama</td>\n",
       "      <td>To help their unemployed father make ends meet...</td>\n",
       "    </tr>\n",
       "    <tr>\n",
       "      <th>4</th>\n",
       "      <td>drama</td>\n",
       "      <td>The film's title refers not only to the un-rec...</td>\n",
       "    </tr>\n",
       "  </tbody>\n",
       "</table>\n",
       "</div>"
      ],
      "text/plain": [
       "                   GENRE                                        DESCRIPTION\n",
       "0  Oscar et la dame rose  Listening in to a conversation between his doc...\n",
       "1               thriller  A brother and sister with a past incestuous re...\n",
       "2                  adult  As the bus empties the students for their fiel...\n",
       "3                  drama  To help their unemployed father make ends meet...\n",
       "4                  drama  The film's title refers not only to the un-rec..."
      ]
     },
     "execution_count": 124,
     "metadata": {},
     "output_type": "execute_result"
    }
   ],
   "source": [
    "df.head()"
   ]
  },
  {
   "cell_type": "code",
   "execution_count": 126,
   "id": "6b032376",
   "metadata": {},
   "outputs": [],
   "source": [
    "top_genres=df['GENRE'].value_counts().nlargest(5).index\n",
    "df=df[df['GENRE'].isin(top_genres)]"
   ]
  },
  {
   "cell_type": "code",
   "execution_count": null,
   "id": "0e238cc2",
   "metadata": {},
   "outputs": [],
   "source": [
    "stop_words=set(stopwords.words('english'))\n",
    "lemmatizer=WordNetLemmatizer()"
   ]
  },
  {
   "cell_type": "code",
   "execution_count": 128,
   "id": "43469c89",
   "metadata": {},
   "outputs": [],
   "source": [
    "def clean_text(text):\n",
    "    text=text.lower()\n",
    "    text=re.sub(r'[^a-z\\s]', '', text)\n",
    "    tokens=text.split()\n",
    "    tokens=[lemmatizer.lemmatize(word) for word in tokens if word not in stop_words]\n",
    "    return \" \".join(tokens)"
   ]
  },
  {
   "cell_type": "code",
   "execution_count": 129,
   "id": "54e2f54a",
   "metadata": {},
   "outputs": [],
   "source": [
    "df['cleaned']=df['DESCRIPTION'].apply(clean_text)"
   ]
  },
  {
   "cell_type": "code",
   "execution_count": 130,
   "id": "b3d914c8",
   "metadata": {},
   "outputs": [],
   "source": [
    "le=LabelEncoder()\n",
    "df['genre_encoded']=le.fit_transform(df['GENRE'])"
   ]
  },
  {
   "cell_type": "code",
   "execution_count": 131,
   "id": "32f6f889",
   "metadata": {},
   "outputs": [],
   "source": [
    "X_train, X_test, y_train, y_test=train_test_split(\n",
    "    df['cleaned'], df['genre_encoded'], test_size=0.2, random_state=42\n",
    ")"
   ]
  },
  {
   "cell_type": "code",
   "execution_count": 132,
   "id": "0f70e545",
   "metadata": {},
   "outputs": [],
   "source": [
    "tfidf = TfidfVectorizer(max_features=5000)"
   ]
  },
  {
   "cell_type": "code",
   "execution_count": 133,
   "id": "3fe9d491",
   "metadata": {},
   "outputs": [],
   "source": [
    "X_train_tfidf = tfidf.fit_transform(X_train)\n",
    "X_test_tfidf = tfidf.transform(X_test)"
   ]
  },
  {
   "cell_type": "code",
   "execution_count": 134,
   "id": "1c610f48",
   "metadata": {},
   "outputs": [],
   "source": [
    "lr = LogisticRegression(max_iter=1000)"
   ]
  },
  {
   "cell_type": "code",
   "execution_count": 135,
   "id": "2f3d7387",
   "metadata": {},
   "outputs": [],
   "source": [
    "lr.fit(X_train_tfidf, y_train)\n",
    "y_pred = lr.predict(X_test_tfidf)"
   ]
  },
  {
   "cell_type": "code",
   "execution_count": 136,
   "id": "dc68025d",
   "metadata": {},
   "outputs": [
    {
     "name": "stdout",
     "output_type": "stream",
     "text": [
      "Accuracy: 0.7133289084655765\n",
      "\n",
      "Classification Report:\n",
      "               precision    recall  f1-score   support\n",
      "\n",
      "      comedy       0.67      0.61      0.64      2964\n",
      " documentary       0.78      0.86      0.82      5195\n",
      "       drama       0.69      0.77      0.73      5516\n",
      "      horror       0.81      0.63      0.71       855\n",
      "       short       0.55      0.35      0.43      2043\n",
      "\n",
      "    accuracy                           0.71     16573\n",
      "   macro avg       0.70      0.65      0.67     16573\n",
      "weighted avg       0.71      0.71      0.70     16573\n",
      "\n"
     ]
    }
   ],
   "source": [
    "print(\"Accuracy:\", accuracy_score(y_test, y_pred))\n",
    "print(\"\\nClassification Report:\\n\", classification_report(y_test, y_pred, target_names=le.classes_))"
   ]
  },
  {
   "cell_type": "code",
   "execution_count": 138,
   "id": "756bcdd4",
   "metadata": {},
   "outputs": [
    {
     "data": {
      "image/png": "[encoded data removed]",
      "text/plain": [
       "<Figure size 800x600 with 2 Axes>"
      ]
     },
     "metadata": {},
     "output_type": "display_data"
    }
   ],
   "source": [
    "plt.figure(figsize=(8,6))\n",
    "sns.heatmap(confusion_matrix(y_test, y_pred), annot=True, fmt='d',\n",
    "            xticklabels=le.classes_, yticklabels=le.classes_, cmap='Blues')\n",
    "plt.title(\"Confusion Matrix\")\n",
    "plt.xlabel(\"Predicted\")\n",
    "plt.ylabel(\"Actual\")\n",
    "plt.show()"
   ]
  },
  {
   "cell_type": "code",
   "execution_count": 139,
   "id": "2c242b75",
   "metadata": {},
   "outputs": [],
   "source": [
    "def predict_genre(text):\n",
    "    cleaned=clean_text(text)\n",
    "    vector=tfidf.transform([cleaned])\n",
    "    prediction=lr.predict(vector)\n",
    "    return le.inverse_transform(prediction)[0]"
   ]
  },
  {
   "cell_type": "code",
   "execution_count": 140,
   "id": "720a155e",
   "metadata": {},
   "outputs": [
    {
     "data": {
      "text/plain": [
       "'horror'"
      ]
     },
     "execution_count": 140,
     "metadata": {},
     "output_type": "execute_result"
    }
   ],
   "source": [
    "predict_genre(\"An ancient vampire awakens and haunts a group of college students.\")"
   ]
  },
  {
   "cell_type": "code",
   "execution_count": 150,
   "id": "032ff50f",
   "metadata": {},
   "outputs": [],
   "source": [
    "samples=[\n",
    "    # Comedy\n",
    "    \"A group of friends plan a hilarious prank that goes wildly out of control.\",\n",
    "\n",
    "    # Documentary\n",
    "    \"An in-depth look at the life and work of a famous wildlife photographer.\",\n",
    "\n",
    "    # Drama\n",
    "    \"A family struggles to stay together through difficult times and personal loss.\",\n",
    "\n",
    "    # Horror\n",
    "    \"A young woman is haunted by terrifying visions after moving into an old mansion.\",\n",
    "\n",
    "    # Short\n",
    "    \"A brief tale of a boy’s magical encounter with a mysterious stranger in his village.\"\n",
    "]"
   ]
  },
  {
   "cell_type": "code",
   "execution_count": 151,
   "id": "069230c4",
   "metadata": {},
   "outputs": [
    {
     "name": "stdout",
     "output_type": "stream",
     "text": [
      "Sample 1:\n",
      "Description: A group of friends plan a hilarious prank that goes wildly out of control.\n",
      "Predicted Genre: comedy\n",
      "\n",
      "Sample 2:\n",
      "Description: An in-depth look at the life and work of a famous wildlife photographer.\n",
      "Predicted Genre: documentary\n",
      "\n",
      "Sample 3:\n",
      "Description: A family struggles to stay together through difficult times and personal loss.\n",
      "Predicted Genre: drama\n",
      "\n",
      "Sample 4:\n",
      "Description: A young woman is haunted by terrifying visions after moving into an old mansion.\n",
      "Predicted Genre: horror\n",
      "\n",
      "Sample 5:\n",
      "Description: A brief tale of a boy’s magical encounter with a mysterious stranger in his village.\n",
      "Predicted Genre: short\n",
      "\n"
     ]
    }
   ],
   "source": [
    "for i, desc in enumerate(samples, 1):\n",
    "    predicted_genre=predict_genre(desc)\n",
    "    print(f\"Sample {i}:\")\n",
    "    print(f\"Description: {desc}\")\n",
    "    print(f\"Predicted Genre: {predicted_genre}\\n\")\n"
   ]
  }
 ],
 "metadata": {
  "language_info": {
   "name": "python"
  }
 },
 "nbformat": 4,
 "nbformat_minor": 5
}
